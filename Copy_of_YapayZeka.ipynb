{
  "nbformat": 4,
  "nbformat_minor": 0,
  "metadata": {
    "colab": {
      "name": "Copy of YapayZeka.ipynb",
      "version": "0.3.2",
      "provenance": [],
      "collapsed_sections": [],
      "include_colab_link": true
    },
    "kernelspec": {
      "name": "python3",
      "display_name": "Python 3"
    },
    "accelerator": "GPU"
  },
  "cells": [
    {
      "cell_type": "markdown",
      "metadata": {
        "id": "view-in-github",
        "colab_type": "text"
      },
      "source": [
        "<a href=\"https://colab.research.google.com/github/solo95/bbcg/blob/master/Copy_of_YapayZeka.ipynb\" target=\"_parent\"><img src=\"https://colab.research.google.com/assets/colab-badge.svg\" alt=\"Open In Colab\"/></a>"
      ]
    },
    {
      "metadata": {
        "id": "X4ROOBvh1_A9",
        "colab_type": "code",
        "outputId": "babeda32-9695-4e9b-860e-bdf4d4f56a87",
        "colab": {
          "base_uri": "https://localhost:8080/",
          "height": 102
        }
      },
      "cell_type": "code",
      "source": [
        "!git clone https://github.com/NLPLearn/QANet.git\n",
        "#copy QANet repository"
      ],
      "execution_count": 0,
      "outputs": [
        {
          "output_type": "stream",
          "text": [
            "Cloning into 'QANet'...\n",
            "remote: Enumerating objects: 176, done.\u001b[K\n",
            "Receiving objects:   0% (1/176)   \rReceiving objects:   1% (2/176)   \rReceiving objects:   2% (4/176)   \rReceiving objects:   3% (6/176)   \rReceiving objects:   4% (8/176)   \rReceiving objects:   5% (9/176)   \rReceiving objects:   6% (11/176)   \rReceiving objects:   7% (13/176)   \rReceiving objects:   8% (15/176)   \rReceiving objects:   9% (16/176)   \rReceiving objects:  10% (18/176)   \rReceiving objects:  11% (20/176)   \rReceiving objects:  12% (22/176)   \rReceiving objects:  13% (23/176)   \rReceiving objects:  14% (25/176)   \rReceiving objects:  15% (27/176)   \rReceiving objects:  16% (29/176)   \rReceiving objects:  17% (30/176)   \rReceiving objects:  18% (32/176)   \rReceiving objects:  19% (34/176)   \rReceiving objects:  20% (36/176)   \rReceiving objects:  21% (37/176)   \rReceiving objects:  22% (39/176)   \rReceiving objects:  23% (41/176)   \rReceiving objects:  24% (43/176)   \rReceiving objects:  25% (44/176)   \rReceiving objects:  26% (46/176)   \rReceiving objects:  27% (48/176)   \rReceiving objects:  28% (50/176)   \rReceiving objects:  29% (52/176)   \rReceiving objects:  30% (53/176)   \rReceiving objects:  31% (55/176)   \rReceiving objects:  32% (57/176)   \rReceiving objects:  33% (59/176)   \rReceiving objects:  34% (60/176)   \rReceiving objects:  35% (62/176)   \rReceiving objects:  36% (64/176)   \rReceiving objects:  37% (66/176)   \rReceiving objects:  38% (67/176)   \rReceiving objects:  39% (69/176)   \rReceiving objects:  40% (71/176)   \rReceiving objects:  41% (73/176)   \rReceiving objects:  42% (74/176)   \rReceiving objects:  43% (76/176)   \rReceiving objects:  44% (78/176)   \rReceiving objects:  45% (80/176)   \rReceiving objects:  46% (81/176)   \rReceiving objects:  47% (83/176)   \rReceiving objects:  48% (85/176)   \rReceiving objects:  49% (87/176)   \rReceiving objects:  50% (88/176)   \rReceiving objects:  51% (90/176)   \rReceiving objects:  52% (92/176)   \rReceiving objects:  53% (94/176)   \rReceiving objects:  54% (96/176)   \rReceiving objects:  55% (97/176)   \rReceiving objects:  56% (99/176)   \rReceiving objects:  57% (101/176)   \rReceiving objects:  58% (103/176)   \rReceiving objects:  59% (104/176)   \rReceiving objects:  60% (106/176)   \rReceiving objects:  61% (108/176)   \rReceiving objects:  62% (110/176)   \rReceiving objects:  63% (111/176)   \rReceiving objects:  64% (113/176)   \rReceiving objects:  65% (115/176)   \rReceiving objects:  66% (117/176)   \rReceiving objects:  67% (118/176)   \rReceiving objects:  68% (120/176)   \rReceiving objects:  69% (122/176)   \rReceiving objects:  70% (124/176)   \rReceiving objects:  71% (125/176)   \rReceiving objects:  72% (127/176)   \rReceiving objects:  73% (129/176)   \rReceiving objects:  74% (131/176)   \rReceiving objects:  75% (132/176)   \rReceiving objects:  76% (134/176)   \rReceiving objects:  77% (136/176)   \rReceiving objects:  78% (138/176)   \rReceiving objects:  79% (140/176)   \rReceiving objects:  80% (141/176)   \rReceiving objects:  81% (143/176)   \rReceiving objects:  82% (145/176)   \rReceiving objects:  83% (147/176)   \rReceiving objects:  84% (148/176)   \rReceiving objects:  85% (150/176)   \rReceiving objects:  86% (152/176)   \rReceiving objects:  87% (154/176)   \rReceiving objects:  88% (155/176)   \rReceiving objects:  89% (157/176)   \rReceiving objects:  90% (159/176)   \rReceiving objects:  91% (161/176)   \rReceiving objects:  92% (162/176)   \rReceiving objects:  93% (164/176)   \rReceiving objects:  94% (166/176)   \rReceiving objects:  95% (168/176)   \rReceiving objects:  96% (169/176)   \rReceiving objects:  97% (171/176)   \rReceiving objects:  98% (173/176)   \rReceiving objects:  99% (175/176)   \rremote: Total 176 (delta 0), reused 0 (delta 0), pack-reused 176\u001b[K\n",
            "Receiving objects: 100% (176/176), 357.63 KiB | 1.44 MiB/s, done.\n",
            "Resolving deltas: 100% (103/103), done.\n"
          ],
          "name": "stdout"
        }
      ]
    },
    {
      "metadata": {
        "id": "K95-O_u22D4M",
        "colab_type": "code",
        "outputId": "cbf705ca-a6d8-4ef2-85b0-ef10f202cc4a",
        "colab": {
          "resources": {
            "http://localhost:8080/nbextensions/google.colab/files.js": {
              "data": "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",
              "ok": true,
              "headers": [
                [
                  "content-type",
                  "application/javascript"
                ]
              ],
              "status": 200,
              "status_text": ""
            }
          },
          "base_uri": "https://localhost:8080/",
          "height": 171
        }
      },
      "cell_type": "code",
      "source": [
        "from google.colab import files\n",
        "uploaded = files.upload()\n",
        "#upload tran-v1.1.json dev-v1.1.json configTurkish.py prepro.py"
      ],
      "execution_count": 0,
      "outputs": [
        {
          "output_type": "display_data",
          "data": {
            "text/html": [
              "\n",
              "     <input type=\"file\" id=\"files-defc589e-646d-42c0-a8c4-b34a4cd4386b\" name=\"files[]\" multiple disabled />\n",
              "     <output id=\"result-defc589e-646d-42c0-a8c4-b34a4cd4386b\">\n",
              "      Upload widget is only available when the cell has been executed in the\n",
              "      current browser session. Please rerun this cell to enable.\n",
              "      </output>\n",
              "      <script src=\"/nbextensions/google.colab/files.js\"></script> "
            ],
            "text/plain": [
              "<IPython.core.display.HTML object>"
            ]
          },
          "metadata": {
            "tags": []
          }
        },
        {
          "output_type": "stream",
          "text": [
            "Saving configTurkish.py to configTurkish.py\n",
            "Saving dev-v1.1.json to dev-v1.1.json\n",
            "Saving prepro.py to prepro.py\n",
            "Saving train-v1.1.json to train-v1.1.json\n"
          ],
          "name": "stdout"
        }
      ]
    },
    {
      "metadata": {
        "id": "4IZKZ_oH9-Fe",
        "colab_type": "code",
        "outputId": "0a87abff-0822-465c-8bcb-26561b93ce91",
        "colab": {
          "base_uri": "https://localhost:8080/",
          "height": 34
        }
      },
      "cell_type": "code",
      "source": [
        "!mkdir QANet/datasets/\n",
        "#create datasets directory"
      ],
      "execution_count": 0,
      "outputs": [
        {
          "output_type": "stream",
          "text": [
            "mkdir: cannot create directory ‘QANet/datasets/’: No such file or directory\n"
          ],
          "name": "stdout"
        }
      ]
    },
    {
      "metadata": {
        "id": "iYgxRmR8-QaE",
        "colab_type": "code",
        "outputId": "b4b7817e-c50b-4c83-a338-b22e58cfb6f3",
        "colab": {
          "base_uri": "https://localhost:8080/",
          "height": 34
        }
      },
      "cell_type": "code",
      "source": [
        "!mkdir QANet/datasets/turkish\n",
        "#create datasets/turkish directory"
      ],
      "execution_count": 0,
      "outputs": [
        {
          "output_type": "stream",
          "text": [
            "mkdir: cannot create directory ‘QANet/datasets/turkish’: No such file or directory\n"
          ],
          "name": "stdout"
        }
      ]
    },
    {
      "metadata": {
        "id": "x7k0XCHq-ciT",
        "colab_type": "code",
        "outputId": "87a9b776-55cf-4c27-fde9-f66ba95ff0ef",
        "colab": {
          "base_uri": "https://localhost:8080/",
          "height": 34
        }
      },
      "cell_type": "code",
      "source": [
        "!mv *.json QANet/datasets/turkish/.\n",
        "#move the data files"
      ],
      "execution_count": 0,
      "outputs": [
        {
          "output_type": "stream",
          "text": [
            "mv: cannot stat '*.json': No such file or directory\n"
          ],
          "name": "stdout"
        }
      ]
    },
    {
      "metadata": {
        "id": "n2eC8pku-ibK",
        "colab_type": "code",
        "outputId": "0d14aa59-4674-4460-8cbc-8a520892ed84",
        "colab": {
          "base_uri": "https://localhost:8080/",
          "height": 34
        }
      },
      "cell_type": "code",
      "source": [
        "!mkdir QANet/datasets/fasttext\n",
        "#create a directory for word vectors"
      ],
      "execution_count": 0,
      "outputs": [
        {
          "output_type": "stream",
          "text": [
            "mkdir: cannot create directory ‘QANet/datasets/fasttext’: No such file or directory\n"
          ],
          "name": "stdout"
        }
      ]
    },
    {
      "metadata": {
        "id": "xDzyOeioAzcW",
        "colab_type": "code",
        "outputId": "73edbff4-c1a4-4946-dfa9-643abdcd0cf8",
        "colab": {
          "base_uri": "https://localhost:8080/",
          "height": 326
        }
      },
      "cell_type": "code",
      "source": [
        "!wget https://s3-us-west-1.amazonaws.com/fasttext-vectors/word-vectors-v2/cc.tr.300.vec.gz .\n",
        "#download Turkish word vectors"
      ],
      "execution_count": 0,
      "outputs": [
        {
          "output_type": "stream",
          "text": [
            "--2018-12-25 02:33:43--  https://s3-us-west-1.amazonaws.com/fasttext-vectors/word-vectors-v2/cc.tr.300.vec.gz\n",
            "Resolving s3-us-west-1.amazonaws.com (s3-us-west-1.amazonaws.com)... 54.231.237.41\n",
            "Connecting to s3-us-west-1.amazonaws.com (s3-us-west-1.amazonaws.com)|54.231.237.41|:443... connected.\n",
            "HTTP request sent, awaiting response... 200 OK\n",
            "Length: 1261500728 (1.2G) [binary/octet-stream]\n",
            "Saving to: ‘cc.tr.300.vec.gz’\n",
            "\n",
            "cc.tr.300.vec.gz    100%[===================>]   1.17G  62.3MB/s    in 19s     \n",
            "\n",
            "2018-12-25 02:34:02 (64.2 MB/s) - ‘cc.tr.300.vec.gz’ saved [1261500728/1261500728]\n",
            "\n",
            "--2018-12-25 02:34:02--  http://./\n",
            "Resolving . (.)... failed: No address associated with hostname.\n",
            "wget: unable to resolve host address ‘.’\n",
            "FINISHED --2018-12-25 02:34:02--\n",
            "Total wall clock time: 19s\n",
            "Downloaded: 1 files, 1.2G in 19s (64.2 MB/s)\n"
          ],
          "name": "stdout"
        }
      ]
    },
    {
      "metadata": {
        "id": "GxGWe3sWBAWl",
        "colab_type": "code",
        "colab": {}
      },
      "cell_type": "code",
      "source": [
        "!gunzip cc.tr.300.vec.gz\n",
        "#unzip"
      ],
      "execution_count": 0,
      "outputs": []
    },
    {
      "metadata": {
        "id": "A3s-8m1iBWvJ",
        "colab_type": "code",
        "colab": {}
      },
      "cell_type": "code",
      "source": [
        "!mv cc.tr.300.vec QANet/datasets/fasttext/.\n",
        "#move the word vectors"
      ],
      "execution_count": 0,
      "outputs": []
    },
    {
      "metadata": {
        "id": "hUKrlQiCCZgg",
        "colab_type": "code",
        "colab": {}
      },
      "cell_type": "code",
      "source": [
        "!mv *.py QANet/.\n",
        "#replace two modified python files within QANet"
      ],
      "execution_count": 0,
      "outputs": []
    },
    {
      "metadata": {
        "id": "A0HnF3xvC3vm",
        "colab_type": "code",
        "outputId": "cd0283e7-bc4f-4e14-91f9-f089c40c29f0",
        "colab": {
          "base_uri": "https://localhost:8080/",
          "height": 1499
        }
      },
      "cell_type": "code",
      "source": [
        "import os\n",
        "os.chdir('QANet')\n",
        "!pip install -r requirements.txt\n",
        "#change to QANet and install required python libraries"
      ],
      "execution_count": 0,
      "outputs": [
        {
          "output_type": "stream",
          "text": [
            "Requirement already satisfied: numpy in /usr/local/lib/python3.6/dist-packages (from -r requirements.txt (line 1)) (1.14.6)\n",
            "Requirement already satisfied: tqdm in /usr/local/lib/python3.6/dist-packages (from -r requirements.txt (line 2)) (4.28.1)\n",
            "Collecting spacy==2.0.9 (from -r requirements.txt (line 3))\n",
            "\u001b[?25l  Downloading https://files.pythonhosted.org/packages/b3/3e/cdedceeb05cf10f35cc489c1b9c7d912078a9ec397272b66be2f840eb27e/spacy-2.0.9.tar.gz (17.5MB)\n",
            "\u001b[K    100% |████████████████████████████████| 17.5MB 1.9MB/s \n",
            "\u001b[?25hCollecting bottle (from -r requirements.txt (line 4))\n",
            "\u001b[?25l  Downloading https://files.pythonhosted.org/packages/47/f1/666d2522c8eda26488315d7ee8882d848710b23d408ed4ced35d750d6e20/bottle-0.12.16-py3-none-any.whl (89kB)\n",
            "\u001b[K    100% |████████████████████████████████| 92kB 22.7MB/s \n",
            "\u001b[?25hCollecting murmurhash<0.29,>=0.28 (from spacy==2.0.9->-r requirements.txt (line 3))\n",
            "  Downloading https://files.pythonhosted.org/packages/82/55/7f050e9f73c9a58df219c63e77304b0ff01676847061dc99abb484cff3a8/murmurhash-0.28.0-cp36-cp36m-manylinux1_x86_64.whl\n",
            "Collecting cymem<1.32,>=1.30 (from spacy==2.0.9->-r requirements.txt (line 3))\n",
            "  Downloading https://files.pythonhosted.org/packages/a5/0f/d29aa68c55db37844c77e7e96143bd96651fd0f4453c9f6ee043ac846b77/cymem-1.31.2-cp36-cp36m-manylinux1_x86_64.whl\n",
            "Collecting preshed<2.0.0,>=1.0.0 (from spacy==2.0.9->-r requirements.txt (line 3))\n",
            "\u001b[?25l  Downloading https://files.pythonhosted.org/packages/12/88/57a818051f3d71e800bfb7ba4df56d3ea5793482ef11f1d2109b726f3bac/preshed-1.0.1-cp36-cp36m-manylinux1_x86_64.whl (80kB)\n",
            "\u001b[K    100% |████████████████████████████████| 81kB 24.3MB/s \n",
            "\u001b[?25hCollecting thinc<6.11.0,>=6.10.1 (from spacy==2.0.9->-r requirements.txt (line 3))\n",
            "\u001b[?25l  Downloading https://files.pythonhosted.org/packages/94/b1/47a88072d0a38b3594c0a638a62f9ef7c742b8b8a87f7b105f7ed720b14b/thinc-6.10.3.tar.gz (1.2MB)\n",
            "\u001b[K    100% |████████████████████████████████| 1.2MB 15.1MB/s \n",
            "\u001b[?25hRequirement already satisfied: plac<1.0.0,>=0.9.6 in /usr/local/lib/python3.6/dist-packages (from spacy==2.0.9->-r requirements.txt (line 3)) (0.9.6)\n",
            "Requirement already satisfied: six in /usr/local/lib/python3.6/dist-packages (from spacy==2.0.9->-r requirements.txt (line 3)) (1.11.0)\n",
            "Collecting html5lib==1.0b8 (from spacy==2.0.9->-r requirements.txt (line 3))\n",
            "\u001b[?25l  Downloading https://files.pythonhosted.org/packages/3b/89/c32486cdca98f476252a9db2cc836b605de4807ac4602ca55b3e7b52b7a8/html5lib-1.0b8.tar.gz (889kB)\n",
            "\u001b[K    100% |████████████████████████████████| 890kB 14.8MB/s \n",
            "\u001b[?25hRequirement already satisfied: pathlib in /usr/local/lib/python3.6/dist-packages (from spacy==2.0.9->-r requirements.txt (line 3)) (1.0.1)\n",
            "Requirement already satisfied: ujson>=1.35 in /usr/local/lib/python3.6/dist-packages (from spacy==2.0.9->-r requirements.txt (line 3)) (1.35)\n",
            "Requirement already satisfied: dill<0.3,>=0.2 in /usr/local/lib/python3.6/dist-packages (from spacy==2.0.9->-r requirements.txt (line 3)) (0.2.8.2)\n",
            "Requirement already satisfied: requests<3.0.0,>=2.13.0 in /usr/local/lib/python3.6/dist-packages (from spacy==2.0.9->-r requirements.txt (line 3)) (2.18.4)\n",
            "Collecting regex==2017.4.5 (from spacy==2.0.9->-r requirements.txt (line 3))\n",
            "\u001b[?25l  Downloading https://files.pythonhosted.org/packages/36/62/c0c0d762ffd4ffaf39f372eb8561b8d491a11ace5a7884610424a8b40f95/regex-2017.04.05.tar.gz (601kB)\n",
            "\u001b[K    100% |████████████████████████████████| 604kB 20.7MB/s \n",
            "\u001b[?25hCollecting ftfy<5.0.0,>=4.4.2 (from spacy==2.0.9->-r requirements.txt (line 3))\n",
            "\u001b[?25l  Downloading https://files.pythonhosted.org/packages/21/5d/9385540977b00df1f3a0c0f07b7e6c15b5e7a3109d7f6ae78a0a764dab22/ftfy-4.4.3.tar.gz (50kB)\n",
            "\u001b[K    100% |████████████████████████████████| 51kB 20.2MB/s \n",
            "\u001b[?25hCollecting msgpack-python==0.5.4 (from spacy==2.0.9->-r requirements.txt (line 3))\n",
            "  Downloading https://files.pythonhosted.org/packages/8b/b8/3ab1585ec7ac02afff2427d5727b922d2907466edd932d98002f0a18c29a/msgpack-python-0.5.4.tar.gz\n",
            "Collecting msgpack-numpy==0.4.1 (from spacy==2.0.9->-r requirements.txt (line 3))\n",
            "  Downloading https://files.pythonhosted.org/packages/2e/43/393e30e2768b0357541ac95891f96b80ccc4d517e0dd2fa3042fc8926538/msgpack_numpy-0.4.1-py2.py3-none-any.whl\n",
            "Requirement already satisfied: msgpack<1.0.0,>=0.5.6 in /usr/local/lib/python3.6/dist-packages (from thinc<6.11.0,>=6.10.1->spacy==2.0.9->-r requirements.txt (line 3)) (0.5.6)\n",
            "Requirement already satisfied: cytoolz<0.10,>=0.9.0 in /usr/local/lib/python3.6/dist-packages (from thinc<6.11.0,>=6.10.1->spacy==2.0.9->-r requirements.txt (line 3)) (0.9.0.1)\n",
            "Requirement already satisfied: wrapt<1.11.0,>=1.10.0 in /usr/local/lib/python3.6/dist-packages (from thinc<6.11.0,>=6.10.1->spacy==2.0.9->-r requirements.txt (line 3)) (1.10.11)\n",
            "Requirement already satisfied: idna<2.7,>=2.5 in /usr/local/lib/python3.6/dist-packages (from requests<3.0.0,>=2.13.0->spacy==2.0.9->-r requirements.txt (line 3)) (2.6)\n",
            "Requirement already satisfied: urllib3<1.23,>=1.21.1 in /usr/local/lib/python3.6/dist-packages (from requests<3.0.0,>=2.13.0->spacy==2.0.9->-r requirements.txt (line 3)) (1.22)\n",
            "Requirement already satisfied: chardet<3.1.0,>=3.0.2 in /usr/local/lib/python3.6/dist-packages (from requests<3.0.0,>=2.13.0->spacy==2.0.9->-r requirements.txt (line 3)) (3.0.4)\n",
            "Requirement already satisfied: certifi>=2017.4.17 in /usr/local/lib/python3.6/dist-packages (from requests<3.0.0,>=2.13.0->spacy==2.0.9->-r requirements.txt (line 3)) (2018.11.29)\n",
            "Requirement already satisfied: wcwidth in /usr/local/lib/python3.6/dist-packages (from ftfy<5.0.0,>=4.4.2->spacy==2.0.9->-r requirements.txt (line 3)) (0.1.7)\n",
            "Requirement already satisfied: toolz>=0.8.0 in /usr/local/lib/python3.6/dist-packages (from cytoolz<0.10,>=0.9.0->thinc<6.11.0,>=6.10.1->spacy==2.0.9->-r requirements.txt (line 3)) (0.9.0)\n",
            "Building wheels for collected packages: spacy, thinc, html5lib, regex, ftfy, msgpack-python\n",
            "  Running setup.py bdist_wheel for spacy ... \u001b[?25l-\b \b\\\b \b|\b \b/\b \b-\b \b\\\b \b|\b \b/\b \b-\b \b\\\b \b|\b \b/\b \b-\b \b\\\b \b|\b \b/\b \b-\b \b\\\b \b|\b \b/\b \b-\b \b\\\b \b|\b \b/\b \b-\b \b\\\b \b|\b \b/\b \b-\b \b\\\b \b|\b \b/\b \b-\b \b\\\b \b|\b \b/\b \b-\b \b\\\b \b|\b \b/\b \b-\b \b\\\b \b|\b \b/\b \b-\b \b\\\b \b|\b \b/\b \b-\b \b\\\b \b|\b \b/\b \b-\b \b\\\b \b|\b \b/\b \b-\b \b\\\b \b|\b \b/\b \b-\b \b\\\b \b|\b \b/\b \b-\b \b\\\b \b|\b \b/\b \b-\b \b\\\b \b|\b \b/\b \b-\b \b\\\b \b|\b \b/\b \b-\b \b\\\b \b|\b \b/\b \b-\b \bdone\n",
            "\u001b[?25h  Stored in directory: /root/.cache/pip/wheels/4d/9d/d4/aa9866e0bb5b14ea8136e52b6838e39bf37a5a1a285458025d\n",
            "  Running setup.py bdist_wheel for thinc ... \u001b[?25l-\b \b\\\b \b|\b \b/\b \b-\b \b\\\b \b|\b \b/\b \b-\b \b\\\b \b|\b \b/\b \b-\b \b\\\b \b|\b \b/\b \b-\b \b\\\b \b|\b \b/\b \b-\b \b\\\b \b|\b \b/\b \b-\b \b\\\b \b|\b \b/\b \b-\b \b\\\b \bdone\n",
            "\u001b[?25h  Stored in directory: /root/.cache/pip/wheels/db/bc/e1/9b321b6b203288cf636a56e668ed5700076af4ed66062278ca\n",
            "  Running setup.py bdist_wheel for html5lib ... \u001b[?25l-\b \b\\\b \bdone\n",
            "\u001b[?25h  Stored in directory: /root/.cache/pip/wheels/73/99/09/aa182bba1f0ac27cef2f0555a0d359b173657cbe1da6a41046\n",
            "  Running setup.py bdist_wheel for regex ... \u001b[?25l-\b \b\\\b \b|\b \b/\b \b-\b \b\\\b \b|\b \b/\b \bdone\n",
            "\u001b[?25h  Stored in directory: /root/.cache/pip/wheels/75/07/38/3c16b529d50cb4e0cd3dbc7b75cece8a09c132692c74450b01\n",
            "  Running setup.py bdist_wheel for ftfy ... \u001b[?25l-\b \b\\\b \bdone\n",
            "\u001b[?25h  Stored in directory: /root/.cache/pip/wheels/37/54/00/d320239bfc8aad1455314f302dd82a75253fc585e17b81704e\n",
            "  Running setup.py bdist_wheel for msgpack-python ... \u001b[?25l-\b \b\\\b \b|\b \b/\b \b-\b \b\\\b \b|\b \bdone\n",
            "\u001b[?25h  Stored in directory: /root/.cache/pip/wheels/f5/52/33/f49e5fca0bd22a9c0d7ab85320f2d0e6ff5fe49cec948d673a\n",
            "Successfully built spacy thinc html5lib regex ftfy msgpack-python\n",
            "Installing collected packages: murmurhash, cymem, preshed, msgpack-python, msgpack-numpy, thinc, html5lib, regex, ftfy, spacy, bottle\n",
            "  Found existing installation: murmurhash 1.0.1\n",
            "    Uninstalling murmurhash-1.0.1:\n",
            "      Successfully uninstalled murmurhash-1.0.1\n",
            "  Found existing installation: cymem 2.0.2\n",
            "    Uninstalling cymem-2.0.2:\n",
            "      Successfully uninstalled cymem-2.0.2\n",
            "  Found existing installation: preshed 2.0.1\n",
            "    Uninstalling preshed-2.0.1:\n",
            "      Successfully uninstalled preshed-2.0.1\n",
            "  Found existing installation: msgpack-numpy 0.4.3.2\n",
            "    Uninstalling msgpack-numpy-0.4.3.2:\n",
            "      Successfully uninstalled msgpack-numpy-0.4.3.2\n",
            "  Found existing installation: thinc 6.12.1\n",
            "    Uninstalling thinc-6.12.1:\n",
            "      Successfully uninstalled thinc-6.12.1\n",
            "  Found existing installation: html5lib 1.0.1\n",
            "    Uninstalling html5lib-1.0.1:\n",
            "      Successfully uninstalled html5lib-1.0.1\n",
            "  Found existing installation: regex 2018.1.10\n",
            "    Uninstalling regex-2018.1.10:\n",
            "      Successfully uninstalled regex-2018.1.10\n",
            "  Found existing installation: spacy 2.0.18\n",
            "    Uninstalling spacy-2.0.18:\n",
            "      Successfully uninstalled spacy-2.0.18\n",
            "Successfully installed bottle-0.12.16 cymem-1.31.2 ftfy-4.4.3 html5lib-1.0b8 msgpack-numpy-0.4.1 msgpack-python-0.5.4 murmurhash-0.28.0 preshed-1.0.1 regex-2017.4.5 spacy-2.0.9 thinc-6.10.3\n"
          ],
          "name": "stdout"
        }
      ]
    },
    {
      "metadata": {
        "id": "-gJKPu7MEsgN",
        "colab_type": "code",
        "outputId": "bbf412a2-1028-492f-c6ff-f1ada3128887",
        "colab": {
          "base_uri": "https://localhost:8080/",
          "height": 561
        }
      },
      "cell_type": "code",
      "source": [
        "!python configTurkish.py --mode prepro\n",
        "#preprocess data files"
      ],
      "execution_count": 0,
      "outputs": [
        {
          "output_type": "stream",
          "text": [
            "Generating train examples...\n",
            "100% 681/681 [00:12<00:00, 56.67it/s]\n",
            "8308 questions in total\n",
            "Generating dev examples...\n",
            "100% 72/72 [00:01<00:00, 54.11it/s]\n",
            "892 questions in total\n",
            "Generating test examples...\n",
            "100% 72/72 [00:01<00:00, 44.95it/s]\n",
            "892 questions in total\n",
            "Generating word embedding...\n",
            " 91% 2000001/2200000 [03:36<00:21, 9217.50it/s]\n",
            "33338 / 42069 tokens have corresponding word embedding vector\n",
            "Generating char embedding...\n",
            "274 tokens have corresponding embedding vector\n",
            "Processing train examples...\n",
            "100% 8308/8308 [00:05<00:00, 1495.61it/s]\n",
            "Built 7554 / 8308 instances of features in total\n",
            "Processing dev examples...\n",
            "100% 892/892 [00:00<00:00, 1386.55it/s]\n",
            "Built 814 / 892 instances of features in total\n",
            "Processing test examples...\n",
            "100% 892/892 [00:00<00:00, 1367.66it/s]\n",
            "Built 820 / 892 instances of features in total\n",
            "Saving word embedding...\n",
            "Saving char embedding...\n",
            "Saving train eval...\n",
            "Saving dev eval...\n",
            "Saving test eval...\n",
            "Saving dev meta...\n",
            "Saving test meta...\n",
            "Saving word dictionary...\n",
            "Saving char dictionary...\n"
          ],
          "name": "stdout"
        }
      ]
    },
    {
      "metadata": {
        "id": "5rlpyHIwKrTy",
        "colab_type": "code",
        "outputId": "ebb98337-bca4-48f7-f7ea-9e25069aaf4c",
        "colab": {
          "base_uri": "https://localhost:8080/",
          "height": 3568
        }
      },
      "cell_type": "code",
      "source": [
        "!python configTurkish.py --mode train\n",
        "#train"
      ],
      "execution_count": 0,
      "outputs": [
        {
          "output_type": "stream",
          "text": [
            "Building model...\n",
            "WARNING:tensorflow:From /content/QANet/layers.py:52: calling reduce_mean (from tensorflow.python.ops.math_ops) with keep_dims is deprecated and will be removed in a future version.\n",
            "Instructions for updating:\n",
            "keep_dims is deprecated, use keepdims instead\n",
            "WARNING:tensorflow:From /content/QANet/model.py:134: calling softmax (from tensorflow.python.ops.nn_ops) with dim is deprecated and will be removed in a future version.\n",
            "Instructions for updating:\n",
            "dim is deprecated, use axis instead\n",
            "WARNING:tensorflow:From /content/QANet/model.py:174: softmax_cross_entropy_with_logits (from tensorflow.python.ops.nn_ops) is deprecated and will be removed in a future version.\n",
            "Instructions for updating:\n",
            "\n",
            "Future major versions of TensorFlow will allow gradients to flow\n",
            "into the labels input on backprop by default.\n",
            "\n",
            "See `tf.nn.softmax_cross_entropy_with_logits_v2`.\n",
            "\n",
            "Total number of trainable parameters: 715009\n",
            "2018-12-25 02:35:38.130151: I tensorflow/stream_executor/cuda/cuda_gpu_executor.cc:964] successful NUMA node read from SysFS had negative value (-1), but there must be at least one NUMA node, so returning NUMA node zero\n",
            "2018-12-25 02:35:38.130639: I tensorflow/core/common_runtime/gpu/gpu_device.cc:1432] Found device 0 with properties: \n",
            "name: Tesla K80 major: 3 minor: 7 memoryClockRate(GHz): 0.8235\n",
            "pciBusID: 0000:00:04.0\n",
            "totalMemory: 11.17GiB freeMemory: 11.10GiB\n",
            "2018-12-25 02:35:38.130685: I tensorflow/core/common_runtime/gpu/gpu_device.cc:1511] Adding visible gpu devices: 0\n",
            "2018-12-25 02:35:38.561329: I tensorflow/core/common_runtime/gpu/gpu_device.cc:982] Device interconnect StreamExecutor with strength 1 edge matrix:\n",
            "2018-12-25 02:35:38.561423: I tensorflow/core/common_runtime/gpu/gpu_device.cc:988]      0 \n",
            "2018-12-25 02:35:38.561453: I tensorflow/core/common_runtime/gpu/gpu_device.cc:1001] 0:   N \n",
            "2018-12-25 02:35:38.561819: I tensorflow/core/common_runtime/gpu/gpu_device.cc:1115] Created TensorFlow device (/job:localhost/replica:0/task:0/device:GPU:0 with 10757 MB memory) -> physical GPU (device: 0, name: Tesla K80, pci bus id: 0000:00:04.0, compute capability: 3.7)\n",
            "  2% 999/60000 [15:21<13:58:12,  1.17it/s]\n",
            "  0% 0/150 [00:00<?, ?it/s]\u001b[A\n",
            "  1% 1/150 [00:08<20:44,  8.35s/it]\u001b[A\n",
            "  1% 2/150 [00:08<14:40,  5.95s/it]\u001b[A\n",
            "  2% 3/150 [00:09<10:29,  4.28s/it]\u001b[A\n",
            "  3% 4/150 [00:09<07:33,  3.10s/it]\u001b[A\n",
            "  3% 5/150 [00:09<05:30,  2.28s/it]\u001b[A\n",
            "  4% 6/150 [00:10<04:04,  1.70s/it]\u001b[A\n",
            "  5% 7/150 [00:10<03:03,  1.28s/it]\u001b[A\n",
            "  5% 8/150 [00:10<02:17,  1.03it/s]\u001b[A\n",
            "  6% 9/150 [00:11<01:50,  1.28it/s]\u001b[A\n",
            "  7% 10/150 [00:11<01:28,  1.58it/s]\u001b[A\n",
            "  7% 11/150 [00:11<01:13,  1.90it/s]\u001b[A\n",
            "  8% 12/150 [00:11<01:05,  2.11it/s]\u001b[A\n",
            "  9% 13/150 [00:12<00:59,  2.28it/s]\u001b[A\n",
            "  9% 14/150 [00:12<00:53,  2.53it/s]\u001b[A\n",
            " 10% 15/150 [00:12<00:50,  2.67it/s]\u001b[A\n",
            " 11% 16/150 [00:13<00:49,  2.69it/s]\u001b[A\n",
            " 11% 17/150 [00:13<00:49,  2.70it/s]\u001b[A\n",
            " 12% 18/150 [00:13<00:45,  2.89it/s]\u001b[A\n",
            " 13% 19/150 [00:14<00:42,  3.08it/s]\u001b[A\n",
            " 13% 20/150 [00:14<00:41,  3.16it/s]\u001b[A\n",
            " 14% 21/150 [00:14<00:39,  3.29it/s]\u001b[A\n",
            " 15% 22/150 [00:15<00:39,  3.20it/s]\u001b[A\n",
            " 15% 23/150 [00:15<00:42,  3.00it/s]\u001b[A\n",
            " 16% 24/150 [00:15<00:41,  3.00it/s]\u001b[A\n",
            " 17% 25/150 [00:16<00:42,  2.94it/s]\u001b[A\n",
            " 17% 26/150 [00:16<00:42,  2.94it/s]\u001b[A\n",
            " 18% 27/150 [00:16<00:39,  3.08it/s]\u001b[A\n",
            " 19% 28/150 [00:17<00:41,  2.96it/s]\u001b[A\n",
            " 19% 29/150 [00:17<00:40,  2.99it/s]\u001b[A\n",
            " 20% 30/150 [00:17<00:40,  3.00it/s]\u001b[A\n",
            " 21% 31/150 [00:18<00:40,  2.92it/s]\u001b[A\n",
            " 21% 32/150 [00:18<00:39,  2.96it/s]\u001b[A\n",
            " 22% 33/150 [00:18<00:41,  2.84it/s]\u001b[A\n",
            " 23% 34/150 [00:19<00:39,  2.92it/s]\u001b[A\n",
            " 23% 35/150 [00:19<00:38,  2.97it/s]\u001b[A\n",
            " 24% 36/150 [00:19<00:38,  2.97it/s]\u001b[A\n",
            " 25% 37/150 [00:20<00:37,  3.02it/s]\u001b[A\n",
            " 25% 38/150 [00:20<00:38,  2.93it/s]\u001b[A\n",
            " 26% 39/150 [00:20<00:37,  2.94it/s]\u001b[A\n",
            " 27% 40/150 [00:21<00:36,  3.05it/s]\u001b[A\n",
            " 27% 41/150 [00:21<00:36,  2.96it/s]\u001b[A\n",
            " 28% 42/150 [00:21<00:35,  3.05it/s]\u001b[A\n",
            " 29% 43/150 [00:22<00:36,  2.92it/s]\u001b[A\n",
            " 29% 44/150 [00:22<00:37,  2.83it/s]\u001b[A\n",
            " 30% 45/150 [00:23<00:37,  2.79it/s]\u001b[A\n",
            " 31% 46/150 [00:23<00:37,  2.74it/s]\u001b[A\n",
            " 31% 47/150 [00:23<00:37,  2.72it/s]\u001b[A\n",
            " 32% 48/150 [00:24<00:37,  2.75it/s]\u001b[A\n",
            " 33% 49/150 [00:24<00:37,  2.69it/s]\u001b[A\n",
            " 33% 50/150 [00:24<00:37,  2.69it/s]\u001b[A\n",
            " 34% 51/150 [00:25<00:35,  2.80it/s]\u001b[A\n",
            " 35% 52/150 [00:25<00:35,  2.73it/s]\u001b[A\n",
            " 35% 53/150 [00:25<00:33,  2.92it/s]\u001b[A\n",
            " 36% 54/150 [00:26<00:34,  2.82it/s]\u001b[A\n",
            " 37% 55/150 [00:26<00:32,  2.88it/s]\u001b[A\n",
            " 37% 56/150 [00:26<00:33,  2.84it/s]\u001b[A\n",
            " 38% 57/150 [00:27<00:32,  2.89it/s]\u001b[A\n",
            " 39% 58/150 [00:27<00:31,  2.92it/s]\u001b[A\n",
            " 39% 59/150 [00:28<00:32,  2.82it/s]\u001b[A\n",
            " 40% 60/150 [00:28<00:32,  2.80it/s]\u001b[A\n",
            " 41% 61/150 [00:28<00:31,  2.86it/s]\u001b[A\n",
            " 41% 62/150 [00:29<00:30,  2.90it/s]\u001b[A\n",
            " 42% 63/150 [00:29<00:29,  2.92it/s]\u001b[A\n",
            " 43% 64/150 [00:29<00:27,  3.09it/s]\u001b[A\n",
            " 43% 65/150 [00:30<00:28,  2.98it/s]\u001b[A\n",
            " 44% 66/150 [00:30<00:27,  3.00it/s]\u001b[A\n",
            " 45% 67/150 [00:30<00:26,  3.17it/s]\u001b[A\n",
            " 45% 68/150 [00:31<00:27,  2.95it/s]\u001b[A\n",
            " 46% 69/150 [00:31<00:25,  3.22it/s]\u001b[A\n",
            " 47% 70/150 [00:31<00:25,  3.17it/s]\u001b[A\n",
            " 47% 71/150 [00:31<00:26,  3.01it/s]\u001b[A\n",
            " 48% 72/150 [00:32<00:25,  3.11it/s]\u001b[A\n",
            " 49% 73/150 [00:32<00:25,  3.03it/s]\u001b[A\n",
            " 49% 74/150 [00:32<00:25,  2.93it/s]\u001b[A\n",
            " 50% 75/150 [00:33<00:25,  2.89it/s]\u001b[A\n",
            " 51% 76/150 [00:33<00:26,  2.80it/s]\u001b[A\n",
            " 51% 77/150 [00:34<00:25,  2.84it/s]\u001b[A\n",
            " 52% 78/150 [00:34<00:24,  2.94it/s]\u001b[A\n",
            " 53% 79/150 [00:34<00:24,  2.95it/s]\u001b[A\n",
            " 53% 80/150 [00:35<00:22,  3.07it/s]\u001b[A\n",
            " 54% 81/150 [00:35<00:21,  3.18it/s]\u001b[A\n",
            " 55% 82/150 [00:35<00:22,  2.99it/s]\u001b[A\n",
            " 55% 83/150 [00:36<00:23,  2.90it/s]\u001b[A\n",
            " 56% 84/150 [00:36<00:23,  2.84it/s]\u001b[A\n",
            " 57% 85/150 [00:36<00:22,  2.84it/s]\u001b[A\n",
            " 57% 86/150 [00:37<00:22,  2.91it/s]\u001b[A\n",
            " 58% 87/150 [00:37<00:20,  3.09it/s]\u001b[A\n",
            " 59% 88/150 [00:37<00:20,  3.01it/s]\u001b[A\n",
            " 59% 89/150 [00:38<00:20,  3.04it/s]\u001b[A\n",
            " 60% 90/150 [00:38<00:19,  3.09it/s]\u001b[A\n",
            " 61% 91/150 [00:38<00:19,  3.05it/s]\u001b[A\n",
            " 61% 92/150 [00:39<00:19,  2.93it/s]\u001b[A\n",
            " 62% 93/150 [00:39<00:19,  2.90it/s]\u001b[A\n",
            " 63% 94/150 [00:39<00:18,  3.09it/s]\u001b[A\n",
            " 63% 95/150 [00:39<00:17,  3.18it/s]\u001b[A\n",
            " 64% 96/150 [00:40<00:17,  3.13it/s]\u001b[A\n",
            " 65% 97/150 [00:40<00:16,  3.30it/s]\u001b[A\n",
            " 65% 98/150 [00:41<00:17,  2.93it/s]\u001b[A\n",
            " 66% 99/150 [00:41<00:17,  2.95it/s]\u001b[A\n",
            " 67% 100/150 [00:41<00:16,  2.99it/s]\u001b[A\n",
            " 67% 101/150 [00:41<00:16,  3.00it/s]\u001b[A\n",
            " 68% 102/150 [00:42<00:15,  3.18it/s]\u001b[A\n",
            " 69% 103/150 [00:42<00:15,  3.04it/s]\u001b[A\n",
            " 69% 104/150 [00:42<00:14,  3.16it/s]\u001b[A\n",
            " 70% 105/150 [00:43<00:14,  3.11it/s]\u001b[A\n",
            " 71% 106/150 [00:43<00:14,  2.99it/s]\u001b[A\n",
            " 71% 107/150 [00:43<00:14,  3.00it/s]\u001b[A\n",
            " 72% 108/150 [00:44<00:13,  3.11it/s]\u001b[A\n",
            " 73% 109/150 [00:44<00:12,  3.23it/s]\u001b[A\n",
            " 73% 110/150 [00:44<00:13,  3.02it/s]\u001b[A\n",
            " 74% 111/150 [00:45<00:13,  2.99it/s]\u001b[A\n",
            " 75% 112/150 [00:45<00:13,  2.90it/s]\u001b[A\n",
            " 75% 113/150 [00:45<00:11,  3.12it/s]\u001b[A\n",
            " 76% 114/150 [00:46<00:11,  3.05it/s]\u001b[A\n",
            " 77% 115/150 [00:46<00:10,  3.31it/s]\u001b[A\n",
            " 77% 116/150 [00:46<00:10,  3.09it/s]\u001b[A\n",
            " 78% 117/150 [00:47<00:10,  3.03it/s]\u001b[A\n",
            " 79% 118/150 [00:47<00:10,  3.03it/s]\u001b[A\n",
            " 79% 119/150 [00:47<00:09,  3.18it/s]\u001b[A\n",
            " 80% 120/150 [00:48<00:09,  3.03it/s]\u001b[A\n",
            " 81% 121/150 [00:48<00:09,  2.98it/s]\u001b[A\n",
            " 81% 122/150 [00:48<00:09,  2.90it/s]\u001b[A\n",
            " 82% 123/150 [00:49<00:08,  3.07it/s]\u001b[A\n",
            " 83% 124/150 [00:49<00:08,  2.94it/s]\u001b[A\n",
            " 83% 125/150 [00:49<00:08,  2.97it/s]\u001b[A\n",
            " 84% 126/150 [00:50<00:08,  2.93it/s]\u001b[A\n",
            " 85% 127/150 [00:50<00:07,  2.90it/s]\u001b[A\n",
            " 85% 128/150 [00:50<00:06,  3.20it/s]\u001b[A\n",
            " 86% 129/150 [00:51<00:06,  3.13it/s]\u001b[A\n",
            " 87% 130/150 [00:51<00:06,  2.93it/s]\u001b[A\n",
            " 87% 131/150 [00:51<00:06,  2.91it/s]\u001b[A\n",
            " 88% 132/150 [00:52<00:06,  2.92it/s]\u001b[A\n",
            " 89% 133/150 [00:52<00:05,  3.10it/s]\u001b[A\n",
            " 89% 134/150 [00:52<00:05,  3.00it/s]\u001b[A\n",
            " 90% 135/150 [00:53<00:04,  3.17it/s]\u001b[A\n",
            " 91% 136/150 [00:53<00:04,  2.98it/s]\u001b[A\n",
            " 91% 137/150 [00:53<00:04,  2.82it/s]\u001b[A\n",
            " 92% 138/150 [00:54<00:03,  3.07it/s]\u001b[A\n",
            " 93% 139/150 [00:54<00:03,  3.32it/s]\u001b[A\n",
            " 93% 140/150 [00:54<00:03,  3.19it/s]\u001b[A\n",
            " 94% 141/150 [00:55<00:02,  3.01it/s]\u001b[A\n",
            " 95% 142/150 [00:55<00:02,  2.89it/s]\u001b[A\n",
            " 95% 143/150 [00:55<00:02,  3.10it/s]\u001b[A\n",
            " 96% 144/150 [00:56<00:01,  3.02it/s]\u001b[A\n",
            " 97% 145/150 [00:56<00:01,  3.12it/s]\u001b[A\n",
            " 97% 146/150 [00:56<00:01,  2.94it/s]\u001b[A\n",
            " 98% 147/150 [00:57<00:01,  2.85it/s]\u001b[A\n",
            " 99% 148/150 [00:57<00:00,  2.99it/s]\u001b[A\n",
            " 99% 149/150 [00:57<00:00,  2.99it/s]\u001b[A\n",
            "100% 150/150 [00:58<00:00,  3.10it/s]\u001b[A\n",
            "\u001b[A\n",
            "  0% 0/26 [00:00<?, ?it/s]\u001b[A\n",
            "  4% 1/26 [00:00<00:09,  2.65it/s]\u001b[A\n",
            "  8% 2/26 [00:00<00:09,  2.66it/s]\u001b[A\n",
            " 12% 3/26 [00:01<00:08,  2.59it/s]\u001b[A\n",
            " 15% 4/26 [00:01<00:07,  2.82it/s]\u001b[A\n",
            " 19% 5/26 [00:01<00:06,  3.11it/s]\u001b[A\n",
            " 23% 6/26 [00:02<00:07,  2.83it/s]\u001b[A\n",
            " 27% 7/26 [00:02<00:06,  2.77it/s]\u001b[A\n",
            " 31% 8/26 [00:02<00:06,  2.95it/s]\u001b[A\n",
            " 35% 9/26 [00:03<00:05,  2.90it/s]\u001b[A\n",
            " 38% 10/26 [00:03<00:05,  2.89it/s]\u001b[A\n",
            " 42% 11/26 [00:03<00:05,  2.88it/s]\u001b[A\n",
            " 46% 12/26 [00:04<00:04,  3.34it/s]\u001b[A\n",
            " 50% 13/26 [00:04<00:03,  3.51it/s]\u001b[A\n",
            " 54% 14/26 [00:04<00:03,  3.27it/s]\u001b[A\n",
            " 58% 15/26 [00:04<00:03,  3.38it/s]\u001b[A\n",
            " 62% 16/26 [00:05<00:03,  3.18it/s]\u001b[A\n",
            " 65% 17/26 [00:05<00:02,  3.08it/s]\u001b[A\n",
            " 69% 18/26 [00:05<00:02,  2.93it/s]\u001b[A\n",
            " 73% 19/26 [00:06<00:02,  2.91it/s]\u001b[A\n",
            " 77% 20/26 [00:06<00:02,  2.88it/s]\u001b[A\n",
            " 81% 21/26 [00:06<00:01,  3.17it/s]\u001b[A\n",
            " 85% 22/26 [00:07<00:01,  3.39it/s]\u001b[A\n",
            " 88% 23/26 [00:07<00:00,  3.23it/s]\u001b[A\n",
            " 92% 24/26 [00:07<00:00,  3.49it/s]\u001b[A\n",
            " 96% 25/26 [00:08<00:00,  3.62it/s]\u001b[A\n",
            "100% 26/26 [00:08<00:00,  3.86it/s]\u001b[A\n",
            "  2% 1266/60000 [20:25<14:52:53,  1.10it/s]"
          ],
          "name": "stdout"
        }
      ]
    },
    {
      "metadata": {
        "id": "fdlbLTJcMAQ3",
        "colab_type": "code",
        "outputId": "74d7aae8-1555-4cd7-d27d-e65bc8f24e8f",
        "colab": {
          "base_uri": "https://localhost:8080/",
          "height": 768
        }
      },
      "cell_type": "code",
      "source": [
        "!python configTurkish.py --mode test\n",
        "#test"
      ],
      "execution_count": 0,
      "outputs": [
        {
          "output_type": "stream",
          "text": [
            "Loading model...\n",
            "WARNING:tensorflow:From /content/QANet/layers.py:52: calling reduce_mean (from tensorflow.python.ops.math_ops) with keep_dims is deprecated and will be removed in a future version.\n",
            "Instructions for updating:\n",
            "keep_dims is deprecated, use keepdims instead\n",
            "WARNING:tensorflow:From /content/QANet/model.py:134: calling softmax (from tensorflow.python.ops.nn_ops) with dim is deprecated and will be removed in a future version.\n",
            "Instructions for updating:\n",
            "dim is deprecated, use axis instead\n",
            "WARNING:tensorflow:From /content/QANet/model.py:174: softmax_cross_entropy_with_logits (from tensorflow.python.ops.nn_ops) is deprecated and will be removed in a future version.\n",
            "Instructions for updating:\n",
            "\n",
            "Future major versions of TensorFlow will allow gradients to flow\n",
            "into the labels input on backprop by default.\n",
            "\n",
            "See `tf.nn.softmax_cross_entropy_with_logits_v2`.\n",
            "\n",
            "Total number of trainable parameters: 715009\n",
            "2018-12-25 02:34:33.133040: I tensorflow/stream_executor/cuda/cuda_gpu_executor.cc:964] successful NUMA node read from SysFS had negative value (-1), but there must be at least one NUMA node, so returning NUMA node zero\n",
            "2018-12-25 02:34:33.133537: I tensorflow/core/common_runtime/gpu/gpu_device.cc:1432] Found device 0 with properties: \n",
            "name: Tesla K80 major: 3 minor: 7 memoryClockRate(GHz): 0.8235\n",
            "pciBusID: 0000:00:04.0\n",
            "totalMemory: 11.17GiB freeMemory: 11.10GiB\n",
            "2018-12-25 02:34:33.133583: I tensorflow/core/common_runtime/gpu/gpu_device.cc:1511] Adding visible gpu devices: 0\n",
            "2018-12-25 02:34:33.512851: I tensorflow/core/common_runtime/gpu/gpu_device.cc:982] Device interconnect StreamExecutor with strength 1 edge matrix:\n",
            "2018-12-25 02:34:33.512922: I tensorflow/core/common_runtime/gpu/gpu_device.cc:988]      0 \n",
            "2018-12-25 02:34:33.512963: I tensorflow/core/common_runtime/gpu/gpu_device.cc:1001] 0:   N \n",
            "2018-12-25 02:34:33.513289: I tensorflow/core/common_runtime/gpu/gpu_device.cc:1115] Created TensorFlow device (/job:localhost/replica:0/task:0/device:GPU:0 with 10757 MB memory) -> physical GPU (device: 0, name: Tesla K80, pci bus id: 0000:00:04.0, compute capability: 3.7)\n",
            "2018-12-25 02:34:34.128655: W tensorflow/core/framework/allocator.cc:122] Allocation of 40008000 exceeds 10% of system memory.\n",
            "2018-12-25 02:34:34.242569: W tensorflow/core/framework/allocator.cc:122] Allocation of 40008000 exceeds 10% of system memory.\n",
            "2018-12-25 02:34:34.497883: W tensorflow/core/framework/allocator.cc:122] Allocation of 40008000 exceeds 10% of system memory.\n",
            "2018-12-25 02:34:34.675109: W tensorflow/core/framework/allocator.cc:122] Allocation of 40008000 exceeds 10% of system memory.\n",
            "2018-12-25 02:34:34.805672: W tensorflow/core/framework/allocator.cc:122] Allocation of 40008000 exceeds 10% of system memory.\n",
            "Traceback (most recent call last):\n",
            "  File \"configTurkish.py\", line 144, in <module>\n",
            "    tf.app.run()\n",
            "  File \"/usr/local/lib/python3.6/dist-packages/tensorflow/python/platform/app.py\", line 125, in run\n",
            "    _sys.exit(main(argv))\n",
            "  File \"configTurkish.py\", line 135, in main\n",
            "    test(config)\n",
            "  File \"/content/QANet/main.py\", line 159, in test\n",
            "    saver.restore(sess, tf.train.latest_checkpoint(config.save_dir))\n",
            "  File \"/usr/local/lib/python3.6/dist-packages/tensorflow/python/training/saver.py\", line 1534, in restore\n",
            "    raise ValueError(\"Can't load save_path when it is None.\")\n",
            "ValueError: Can't load save_path when it is None.\n"
          ],
          "name": "stdout"
        }
      ]
    },
    {
      "metadata": {
        "id": "5ntUS6g5O9eX",
        "colab_type": "code",
        "outputId": "c1446a37-954f-4743-c496-a25345cd7417",
        "colab": {
          "base_uri": "https://localhost:8080/",
          "height": 1210
        }
      },
      "cell_type": "code",
      "source": [
        "!python configTurkish.py --mode demo\n",
        "#demo, will create a server at http://127.0.0.1:8080/\n",
        "#if you are working on a remote server make sure to set up port forwarding from your local computer\n",
        "#i.e. put LocalForward 8080 127.0.0.1:8080 in your config file \n",
        "#Host gpu\n",
        "#hostname xx.xxx.xxx.x\n",
        "#user ubuntu\n",
        "#IdentityFile  ~/.ssh/id_rsa\n",
        "#TCPKeepAlive yes\n",
        "#ServerAliveInterval 30\n",
        "#ServerAliveCountMax 120\n",
        "#ForwardAgent yes\n",
        "#LocalForward 8080 127.0.0.1:8080\n",
        "#ForwardX11 yes\n"
      ],
      "execution_count": 0,
      "outputs": [
        {
          "output_type": "stream",
          "text": [
            "WARNING:tensorflow:From /content/QANet/layers.py:52: calling reduce_mean (from tensorflow.python.ops.math_ops) with keep_dims is deprecated and will be removed in a future version.\n",
            "Instructions for updating:\n",
            "keep_dims is deprecated, use keepdims instead\n",
            "WARNING:tensorflow:From /content/QANet/model.py:134: calling softmax (from tensorflow.python.ops.nn_ops) with dim is deprecated and will be removed in a future version.\n",
            "Instructions for updating:\n",
            "dim is deprecated, use axis instead\n",
            "WARNING:tensorflow:From /content/QANet/model.py:174: softmax_cross_entropy_with_logits (from tensorflow.python.ops.nn_ops) is deprecated and will be removed in a future version.\n",
            "Instructions for updating:\n",
            "\n",
            "Future major versions of TensorFlow will allow gradients to flow\n",
            "into the labels input on backprop by default.\n",
            "\n",
            "See `tf.nn.softmax_cross_entropy_with_logits_v2`.\n",
            "\n",
            "Total number of trainable parameters: 715009\n",
            "Bottle v0.12.16 server starting up (using WSGIRefServer())...\n",
            "Listening on http://0.0.0.0:8080/\n",
            "Hit Ctrl-C to quit.\n",
            "\n",
            "Traceback (most recent call last):\n",
            "  File \"configTurkish.py\", line 144, in <module>\n",
            "    tf.app.run()\n",
            "  File \"/usr/local/lib/python3.6/dist-packages/tensorflow/python/platform/app.py\", line 125, in run\n",
            "    _sys.exit(main(argv))\n",
            "  File \"configTurkish.py\", line 137, in main\n",
            "    demo(config)\n",
            "  File \"/content/QANet/main.py\", line 130, in demo\n",
            "    demo = Demo(model, config)\n",
            "  File \"/content/QANet/demo.py\", line 50, in __init__\n",
            "    app.run(port=8080, host='0.0.0.0')\n",
            "  File \"/usr/local/lib/python3.6/dist-packages/bottle.py\", line 755, in run\n",
            "    run(self, **kwargs)\n",
            "  File \"/usr/local/lib/python3.6/dist-packages/bottle.py\", line 3129, in run\n",
            "    server.run(app)\n",
            "  File \"/usr/local/lib/python3.6/dist-packages/bottle.py\", line 2781, in run\n",
            "    srv = make_server(self.host, self.port, app, server_cls, handler_cls)\n",
            "  File \"/usr/lib/python3.6/wsgiref/simple_server.py\", line 153, in make_server\n",
            "    server = server_class((host, port), handler_class)\n",
            "  File \"/usr/lib/python3.6/socketserver.py\", line 453, in __init__\n",
            "    self.server_bind()\n",
            "  File \"/usr/lib/python3.6/wsgiref/simple_server.py\", line 50, in server_bind\n",
            "    HTTPServer.server_bind(self)\n",
            "  File \"/usr/lib/python3.6/http/server.py\", line 136, in server_bind\n",
            "    socketserver.TCPServer.server_bind(self)\n",
            "  File \"/usr/lib/python3.6/socketserver.py\", line 467, in server_bind\n",
            "    self.socket.bind(self.server_address)\n",
            "OSError: [Errno 98] Address already in use\n",
            "2018-12-25 02:33:22.672456: I tensorflow/stream_executor/cuda/cuda_gpu_executor.cc:964] successful NUMA node read from SysFS had negative value (-1), but there must be at least one NUMA node, so returning NUMA node zero\n",
            "2018-12-25 02:33:22.672999: I tensorflow/core/common_runtime/gpu/gpu_device.cc:1432] Found device 0 with properties: \n",
            "name: Tesla K80 major: 3 minor: 7 memoryClockRate(GHz): 0.8235\n",
            "pciBusID: 0000:00:04.0\n",
            "totalMemory: 11.17GiB freeMemory: 11.10GiB\n",
            "2018-12-25 02:33:22.673047: I tensorflow/core/common_runtime/gpu/gpu_device.cc:1511] Adding visible gpu devices: 0\n",
            "2018-12-25 02:33:23.048160: I tensorflow/core/common_runtime/gpu/gpu_device.cc:982] Device interconnect StreamExecutor with strength 1 edge matrix:\n",
            "2018-12-25 02:33:23.048242: I tensorflow/core/common_runtime/gpu/gpu_device.cc:988]      0 \n",
            "2018-12-25 02:33:23.048270: I tensorflow/core/common_runtime/gpu/gpu_device.cc:1001] 0:   N \n",
            "2018-12-25 02:33:23.048641: I tensorflow/core/common_runtime/gpu/gpu_device.cc:1115] Created TensorFlow device (/job:localhost/replica:0/task:0/device:GPU:0 with 10757 MB memory) -> physical GPU (device: 0, name: Tesla K80, pci bus id: 0000:00:04.0, compute capability: 3.7)\n",
            "Exception in thread Thread-1:\n",
            "Traceback (most recent call last):\n",
            "  File \"/usr/lib/python3.6/threading.py\", line 916, in _bootstrap_inner\n",
            "    self.run()\n",
            "  File \"/usr/lib/python3.6/threading.py\", line 864, in run\n",
            "    self._target(*self._args, **self._kwargs)\n",
            "  File \"/content/QANet/demo.py\", line 74, in demo_backend\n",
            "    saver.restore(sess, tf.train.latest_checkpoint(config.save_dir))\n",
            "  File \"/usr/local/lib/python3.6/dist-packages/tensorflow/python/training/saver.py\", line 1534, in restore\n",
            "    raise ValueError(\"Can't load save_path when it is None.\")\n",
            "ValueError: Can't load save_path when it is None.\n",
            "\n"
          ],
          "name": "stdout"
        }
      ]
    }
  ]
}